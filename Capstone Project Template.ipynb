{
 "cells": [
  {
   "cell_type": "code",
   "execution_count": 1,
   "id": "3b567df6",
   "metadata": {},
   "outputs": [
    {
     "data": {
      "application/vnd.jupyter.widget-view+json": {
       "model_id": "b03806a3eaa54a7ebca1f9916f16572c",
       "version_major": 2,
       "version_minor": 0
      },
      "text/plain": [
       "VBox()"
      ]
     },
     "metadata": {},
     "output_type": "display_data"
    },
    {
     "name": "stdout",
     "output_type": "stream",
     "text": [
      "Starting Spark application\n"
     ]
    },
    {
     "data": {
      "text/html": [
       "<table>\n",
       "<tr><th>ID</th><th>YARN Application ID</th><th>Kind</th><th>State</th><th>Spark UI</th><th>Driver log</th><th>Current session?</th></tr><tr><td>32</td><td>application_1634329060496_0090</td><td>pyspark</td><td>idle</td><td><a target=\"_blank\" href=\"http://ip-172-31-11-154.ec2.internal:20888/proxy/application_1634329060496_0090/\">Link</a></td><td><a target=\"_blank\" href=\"http://ip-172-31-12-187.ec2.internal:8042/node/containerlogs/container_1634329060496_0090_01_000001/livy\">Link</a></td><td>✔</td></tr></table>"
      ],
      "text/plain": [
       "<IPython.core.display.HTML object>"
      ]
     },
     "metadata": {},
     "output_type": "display_data"
    },
    {
     "data": {
      "application/vnd.jupyter.widget-view+json": {
       "model_id": "",
       "version_major": 2,
       "version_minor": 0
      },
      "text/plain": [
       "FloatProgress(value=0.0, bar_style='info', description='Progress:', layout=Layout(height='25px', width='50%'),…"
      ]
     },
     "metadata": {},
     "output_type": "display_data"
    },
    {
     "name": "stdout",
     "output_type": "stream",
     "text": [
      "SparkSession available as 'spark'.\n"
     ]
    },
    {
     "data": {
      "application/vnd.jupyter.widget-view+json": {
       "model_id": "",
       "version_major": 2,
       "version_minor": 0
      },
      "text/plain": [
       "FloatProgress(value=0.0, bar_style='info', description='Progress:', layout=Layout(height='25px', width='50%'),…"
      ]
     },
     "metadata": {},
     "output_type": "display_data"
    }
   ],
   "source": [
    "from pyspark.sql import SparkSession\n",
    "\n",
    "spark = SparkSession.builder.\\\n",
    "config(\"spark.jars.repositories\", \"https://repos.spark-packages.org/\").\\\n",
    "config(\"spark.jars\", \"s3://gsc-udc-poc/spark-sas7bdat-3.0.0-s_2.12.jar\").\\\n",
    "config(\"spark.jars.packages\", \"https://mvnrepository.com/artifact/com.epam/parso/2.0.12,org.apache.hadoop:hadoop-aws:2.7.0\").\\\n",
    "enableHiveSupport().getOrCreate()"
   ]
  },
  {
   "cell_type": "code",
   "execution_count": 2,
   "id": "bdb5eb5e",
   "metadata": {},
   "outputs": [
    {
     "data": {
      "application/vnd.jupyter.widget-view+json": {
       "model_id": "419269218a3c4adeb99f83681858ce6b",
       "version_major": 2,
       "version_minor": 0
      },
      "text/plain": [
       "VBox()"
      ]
     },
     "metadata": {},
     "output_type": "display_data"
    },
    {
     "data": {
      "application/vnd.jupyter.widget-view+json": {
       "model_id": "",
       "version_major": 2,
       "version_minor": 0
      },
      "text/plain": [
       "FloatProgress(value=0.0, bar_style='info', description='Progress:', layout=Layout(height='25px', width='50%'),…"
      ]
     },
     "metadata": {},
     "output_type": "display_data"
    }
   ],
   "source": [
    "import datetime\n",
    "from pyspark.sql.window import Window\n",
    "from pyspark.sql import functions as F\n",
    "from pyspark.sql.types import DateType, IntegerType, StringType, LongType\n",
    "from pyspark.sql.functions import udf, year , month, dayofweek, substring, date_format, col, when, count, avg, lower\n"
   ]
  },
  {
   "cell_type": "markdown",
   "id": "70905dce",
   "metadata": {},
   "source": [
    "##### Step 1: Scope the Project and Gather Data\n",
    "\n",
    "Scope\n",
    "The goal of this project is pull data from 6 different sources and create fact and dimension table to be able to do analysis on US immigration using factors of city monthly average temperature, city demographics.\n",
    "\n",
    "Describe and Gather Data\n",
    "I94 Immigration Data: comes from the U.S. National Tourism and Trade Office and contains various statistics on international visitor arrival in USA and comes from the US National Tourism and Trade Office. The dataset contains data from 2016. link\n",
    "World Temperature Data: comes from Kaggle and contains average weather temperatures by city. link\n",
    "U.S. City Demographic Data: comes from OpenSoft and contains information about the demographics of all US cities such as average age, male and female population.\n",
    "\n",
    "Aditionally we will use States, Countries and Cities to match with records from the above sources."
   ]
  },
  {
   "cell_type": "code",
   "execution_count": 3,
   "id": "56340666",
   "metadata": {
    "scrolled": true
   },
   "outputs": [
    {
     "data": {
      "application/vnd.jupyter.widget-view+json": {
       "model_id": "5e918ec3bdc74636b935bc3138245657",
       "version_major": 2,
       "version_minor": 0
      },
      "text/plain": [
       "VBox()"
      ]
     },
     "metadata": {},
     "output_type": "display_data"
    },
    {
     "data": {
      "application/vnd.jupyter.widget-view+json": {
       "model_id": "",
       "version_major": 2,
       "version_minor": 0
      },
      "text/plain": [
       "FloatProgress(value=0.0, bar_style='info', description='Progress:', layout=Layout(height='25px', width='50%'),…"
      ]
     },
     "metadata": {},
     "output_type": "display_data"
    }
   ],
   "source": [
    "# Read Demographics Data\n",
    "us = spark.read.format(\"csv\").option(\"header\", \"true\").option(\"delimiter\", \";\").load(\"s3://gsc-udc-poc/us-cities-demographics.csv\")\n"
   ]
  },
  {
   "cell_type": "code",
   "execution_count": 4,
   "id": "962addb5",
   "metadata": {},
   "outputs": [
    {
     "data": {
      "application/vnd.jupyter.widget-view+json": {
       "model_id": "dc32f28cb5b248bf9e951df327bb6d37",
       "version_major": 2,
       "version_minor": 0
      },
      "text/plain": [
       "VBox()"
      ]
     },
     "metadata": {},
     "output_type": "display_data"
    },
    {
     "data": {
      "application/vnd.jupyter.widget-view+json": {
       "model_id": "",
       "version_major": 2,
       "version_minor": 0
      },
      "text/plain": [
       "FloatProgress(value=0.0, bar_style='info', description='Progress:', layout=Layout(height='25px', width='50%'),…"
      ]
     },
     "metadata": {},
     "output_type": "display_data"
    }
   ],
   "source": [
    "# Read States\n",
    "i94_addr = spark.read.format(\"csv\").option(\"header\", \"true\").option(\"delimiter\", \",\").load(\"s3://gsc-udc-poc/I94ADDR.csv\")"
   ]
  },
  {
   "cell_type": "code",
   "execution_count": 5,
   "id": "315771ed",
   "metadata": {},
   "outputs": [
    {
     "data": {
      "application/vnd.jupyter.widget-view+json": {
       "model_id": "485bcddfc4884ed09acbba6e96fae639",
       "version_major": 2,
       "version_minor": 0
      },
      "text/plain": [
       "VBox()"
      ]
     },
     "metadata": {},
     "output_type": "display_data"
    },
    {
     "data": {
      "application/vnd.jupyter.widget-view+json": {
       "model_id": "",
       "version_major": 2,
       "version_minor": 0
      },
      "text/plain": [
       "FloatProgress(value=0.0, bar_style='info', description='Progress:', layout=Layout(height='25px', width='50%'),…"
      ]
     },
     "metadata": {},
     "output_type": "display_data"
    }
   ],
   "source": [
    "# Read Inmigration Data\n",
    "inmigration = spark.read.parquet(\"s3://gsc-udc-poc/sas_data/\")"
   ]
  },
  {
   "cell_type": "code",
   "execution_count": 6,
   "id": "28dd95c4",
   "metadata": {},
   "outputs": [
    {
     "data": {
      "application/vnd.jupyter.widget-view+json": {
       "model_id": "b799c3d82d83489190fb2d7fbaa05557",
       "version_major": 2,
       "version_minor": 0
      },
      "text/plain": [
       "VBox()"
      ]
     },
     "metadata": {},
     "output_type": "display_data"
    },
    {
     "data": {
      "application/vnd.jupyter.widget-view+json": {
       "model_id": "",
       "version_major": 2,
       "version_minor": 0
      },
      "text/plain": [
       "FloatProgress(value=0.0, bar_style='info', description='Progress:', layout=Layout(height='25px', width='50%'),…"
      ]
     },
     "metadata": {},
     "output_type": "display_data"
    }
   ],
   "source": [
    "# Read Cities\n",
    "cities = spark.read.format(\"csv\").option(\"header\", \"true\").option(\"delimiter\", \",\").load(\"s3://gsc-udc-poc/I94PORT.csv\")\n"
   ]
  },
  {
   "cell_type": "code",
   "execution_count": 7,
   "id": "a6c24807",
   "metadata": {},
   "outputs": [
    {
     "data": {
      "application/vnd.jupyter.widget-view+json": {
       "model_id": "e86d2234cf3b4cc8b294ad708d074b52",
       "version_major": 2,
       "version_minor": 0
      },
      "text/plain": [
       "VBox()"
      ]
     },
     "metadata": {},
     "output_type": "display_data"
    },
    {
     "data": {
      "application/vnd.jupyter.widget-view+json": {
       "model_id": "",
       "version_major": 2,
       "version_minor": 0
      },
      "text/plain": [
       "FloatProgress(value=0.0, bar_style='info', description='Progress:', layout=Layout(height='25px', width='50%'),…"
      ]
     },
     "metadata": {},
     "output_type": "display_data"
    }
   ],
   "source": [
    "# Read Countries\n",
    "countries = spark.read.format(\"csv\").option(\"header\", \"true\").option(\"delimiter\", \",\").load(\"s3://gsc-udc-poc/I94CIT_I94RES.csv\")\n"
   ]
  },
  {
   "cell_type": "code",
   "execution_count": 8,
   "id": "9948e95d",
   "metadata": {},
   "outputs": [
    {
     "data": {
      "application/vnd.jupyter.widget-view+json": {
       "model_id": "f3f4004a37fe4923aa657eb6db97a344",
       "version_major": 2,
       "version_minor": 0
      },
      "text/plain": [
       "VBox()"
      ]
     },
     "metadata": {},
     "output_type": "display_data"
    },
    {
     "data": {
      "application/vnd.jupyter.widget-view+json": {
       "model_id": "",
       "version_major": 2,
       "version_minor": 0
      },
      "text/plain": [
       "FloatProgress(value=0.0, bar_style='info', description='Progress:', layout=Layout(height='25px', width='50%'),…"
      ]
     },
     "metadata": {},
     "output_type": "display_data"
    }
   ],
   "source": [
    "# Read Temperatures by City\n",
    "temperature = spark.read.format(\"csv\").option(\"header\", \"true\").option(\"delimiter\", \",\").load(\"s3://gsc-udc-poc/GlobalLandTemperaturesByCity.csv\")\n"
   ]
  },
  {
   "cell_type": "markdown",
   "id": "d67519ee",
   "metadata": {},
   "source": [
    "### Step 2: Explore and Assess the Data\n",
    "\n",
    "To familiarize ourselves with the data provided by Udacity we have done an exhaustive exploratory data analysis (EDA) checking what data would be useful and what preprocessing steps we should take in order to clean, organize and join the various datasets in a meaningful data model.\n",
    "\n",
    "In the following sections we briefly describe the datasets provided and give a summarized idea on the reasons we took into consideration when deciding what data to use.\n",
    "\n"
   ]
  },
  {
   "cell_type": "code",
   "execution_count": 9,
   "id": "82aae853",
   "metadata": {},
   "outputs": [
    {
     "data": {
      "application/vnd.jupyter.widget-view+json": {
       "model_id": "332ebc11c58943868c8031ba8f9a714c",
       "version_major": 2,
       "version_minor": 0
      },
      "text/plain": [
       "VBox()"
      ]
     },
     "metadata": {},
     "output_type": "display_data"
    },
    {
     "data": {
      "application/vnd.jupyter.widget-view+json": {
       "model_id": "",
       "version_major": 2,
       "version_minor": 0
      },
      "text/plain": [
       "FloatProgress(value=0.0, bar_style='info', description='Progress:', layout=Layout(height='25px', width='50%'),…"
      ]
     },
     "metadata": {},
     "output_type": "display_data"
    },
    {
     "name": "stdout",
     "output_type": "stream",
     "text": [
      "Collecting pandas==0.25.1\n",
      "  Using cached https://files.pythonhosted.org/packages/7e/ab/ea76361f9d3e732e114adcd801d2820d5319c23d0ac5482fa3b412db217e/pandas-0.25.1-cp37-cp37m-manylinux1_x86_64.whl\n",
      "Requirement already satisfied: pytz>=2017.2 in /usr/local/lib/python3.7/site-packages (from pandas==0.25.1)\n",
      "Requirement already satisfied: numpy>=1.13.3 in /usr/local/lib64/python3.7/site-packages (from pandas==0.25.1)\n",
      "Collecting python-dateutil>=2.6.1 (from pandas==0.25.1)\n",
      "  Using cached https://files.pythonhosted.org/packages/36/7a/87837f39d0296e723bb9b62bbb257d0355c7f6128853c78955f57342a56d/python_dateutil-2.8.2-py2.py3-none-any.whl\n",
      "Requirement already satisfied: six>=1.5 in /usr/local/lib/python3.7/site-packages (from python-dateutil>=2.6.1->pandas==0.25.1)\n",
      "Installing collected packages: python-dateutil, pandas\n",
      "Successfully installed pandas-0.25.1 python-dateutil-2.8.2"
     ]
    }
   ],
   "source": [
    "sc.install_pypi_package(\"pandas==0.25.1\")\n",
    "import pandas as pd"
   ]
  },
  {
   "cell_type": "markdown",
   "id": "8bd76d87",
   "metadata": {},
   "source": [
    "### Demographic Data\n",
    "\n",
    "This dataset contains information about the demographics of all US cities and census-designated places with a population greater or equal to 65,000. This data comes from the US Census Bureau's 2015 American Community Survey."
   ]
  },
  {
   "cell_type": "code",
   "execution_count": 10,
   "id": "bb8a7832",
   "metadata": {},
   "outputs": [
    {
     "data": {
      "application/vnd.jupyter.widget-view+json": {
       "model_id": "4a8bce7df043459f8f98d93535b28ca3",
       "version_major": 2,
       "version_minor": 0
      },
      "text/plain": [
       "VBox()"
      ]
     },
     "metadata": {},
     "output_type": "display_data"
    },
    {
     "data": {
      "application/vnd.jupyter.widget-view+json": {
       "model_id": "",
       "version_major": 2,
       "version_minor": 0
      },
      "text/plain": [
       "FloatProgress(value=0.0, bar_style='info', description='Progress:', layout=Layout(height='25px', width='50%'),…"
      ]
     },
     "metadata": {},
     "output_type": "display_data"
    },
    {
     "name": "stdout",
     "output_type": "stream",
     "text": [
      "+-------+----------+----------+---------------+-----------------+----------------+------------+----------------------+\n",
      "|City   |State Code|Median Age|Male Population|Female Population|Total Population|Foreign-born|Average Household Size|\n",
      "+-------+----------+----------+---------------+-----------------+----------------+------------+----------------------+\n",
      "|Abilene|TX        |31.3      |65212          |60664            |125876          |8129        |2.64                  |\n",
      "|Abilene|TX        |31.3      |65212          |60664            |125876          |8129        |2.64                  |\n",
      "|Abilene|TX        |31.3      |65212          |60664            |125876          |8129        |2.64                  |\n",
      "|Abilene|TX        |31.3      |65212          |60664            |125876          |8129        |2.64                  |\n",
      "|Abilene|TX        |31.3      |65212          |60664            |125876          |8129        |2.64                  |\n",
      "|Akron  |OH        |38.1      |96886          |100667           |197553          |10024       |2.24                  |\n",
      "|Akron  |OH        |38.1      |96886          |100667           |197553          |10024       |2.24                  |\n",
      "|Akron  |OH        |38.1      |96886          |100667           |197553          |10024       |2.24                  |\n",
      "|Akron  |OH        |38.1      |96886          |100667           |197553          |10024       |2.24                  |\n",
      "|Akron  |OH        |38.1      |96886          |100667           |197553          |10024       |2.24                  |\n",
      "+-------+----------+----------+---------------+-----------------+----------------+------------+----------------------+\n",
      "only showing top 10 rows"
     ]
    }
   ],
   "source": [
    "# CLEANING DEMOGRAPHIC DATA SET SUMMARY NOTED BY STEPS:\n",
    "\n",
    "# 'Race' and 'Count' records are causing duplicate rows. We will separate them from US demographics data set and include 'City' and 'State Code'.\n",
    "# 'Race' will be pivoted to column headers and saved to us_race_cnt dataset\n",
    "# US dataset will be cleaned of duplicate rows (shown above).\n",
    "# Cleaned US dataset will be joined back with us_race_cnt dataset to eventually have unique rows.\n",
    "# replace null by 0 for gender columns\n",
    "# create list of valid cities\n",
    "# match only cities present in valid cities (I94PORT)\n",
    "\n",
    "# Check us dataset for duplicate rows and which columns cause the duplicates\n",
    "us.select(\"City\", \"State Code\", \"Median Age\",\"Male Population\",\"Female Population\",\"Total Population\", \\\n",
    "                  \"Foreign-born\",\"Average Household Size\").orderBy(\"City\").show(10, truncate=False)\n"
   ]
  },
  {
   "cell_type": "code",
   "execution_count": 11,
   "id": "7bed5987",
   "metadata": {},
   "outputs": [
    {
     "data": {
      "application/vnd.jupyter.widget-view+json": {
       "model_id": "ab3a730957224be38679ad20c186c530",
       "version_major": 2,
       "version_minor": 0
      },
      "text/plain": [
       "VBox()"
      ]
     },
     "metadata": {},
     "output_type": "display_data"
    },
    {
     "data": {
      "application/vnd.jupyter.widget-view+json": {
       "model_id": "",
       "version_major": 2,
       "version_minor": 0
      },
      "text/plain": [
       "FloatProgress(value=0.0, bar_style='info', description='Progress:', layout=Layout(height='25px', width='50%'),…"
      ]
     },
     "metadata": {},
     "output_type": "display_data"
    }
   ],
   "source": [
    "us_race_cnt=(us.select(\"City\",\"State Code\",\"Race\",\"count\")\n",
    "    .groupby(\"City\", \"State Code\")\n",
    "    .pivot(\"Race\")\n",
    "    .agg({'City':'count'})).fillna({\"American Indian and Alaska Native\": 0,\n",
    "                     \"Asian\": 0,\n",
    "                     \"Black or African-American\": 0,\n",
    "                     \"Hispanic or Latino\": 0,\n",
    "                     \"White\": 0})"
   ]
  },
  {
   "cell_type": "code",
   "execution_count": 6,
   "id": "3f58f764",
   "metadata": {},
   "outputs": [
    {
     "data": {
      "application/vnd.jupyter.widget-view+json": {
       "model_id": "f4164fbf3d284f4391a38113d9ae82dc",
       "version_major": 2,
       "version_minor": 0
      },
      "text/plain": [
       "VBox()"
      ]
     },
     "metadata": {},
     "output_type": "display_data"
    },
    {
     "data": {
      "application/vnd.jupyter.widget-view+json": {
       "model_id": "",
       "version_major": 2,
       "version_minor": 0
      },
      "text/plain": [
       "FloatProgress(value=0.0, bar_style='info', description='Progress:', layout=Layout(height='25px', width='50%'),…"
      ]
     },
     "metadata": {},
     "output_type": "display_data"
    },
    {
     "name": "stdout",
     "output_type": "stream",
     "text": [
      "(596, 596)"
     ]
    }
   ],
   "source": [
    "# Comparing both datasets after dropping duplicate rows\n",
    "(us_race_cnt.count(), us_race_cnt.dropDuplicates().count())"
   ]
  },
  {
   "cell_type": "code",
   "execution_count": 12,
   "id": "21b77553",
   "metadata": {},
   "outputs": [
    {
     "data": {
      "application/vnd.jupyter.widget-view+json": {
       "model_id": "8eae1d44785f4c65a0c67afa0a502e2e",
       "version_major": 2,
       "version_minor": 0
      },
      "text/plain": [
       "VBox()"
      ]
     },
     "metadata": {},
     "output_type": "display_data"
    },
    {
     "data": {
      "application/vnd.jupyter.widget-view+json": {
       "model_id": "",
       "version_major": 2,
       "version_minor": 0
      },
      "text/plain": [
       "FloatProgress(value=0.0, bar_style='info', description='Progress:', layout=Layout(height='25px', width='50%'),…"
      ]
     },
     "metadata": {},
     "output_type": "display_data"
    }
   ],
   "source": [
    "# Drop columns we don't need and drop duplicate rows\n",
    "uscols=[\"Number of Veterans\",\"Race\",\"Count\"]\n",
    "us=us.drop(*uscols).dropDuplicates()"
   ]
  },
  {
   "cell_type": "code",
   "execution_count": 13,
   "id": "9527da7e",
   "metadata": {},
   "outputs": [
    {
     "data": {
      "application/vnd.jupyter.widget-view+json": {
       "model_id": "f0015bc7dad743f48dec13f0cb703070",
       "version_major": 2,
       "version_minor": 0
      },
      "text/plain": [
       "VBox()"
      ]
     },
     "metadata": {},
     "output_type": "display_data"
    },
    {
     "data": {
      "application/vnd.jupyter.widget-view+json": {
       "model_id": "",
       "version_major": 2,
       "version_minor": 0
      },
      "text/plain": [
       "FloatProgress(value=0.0, bar_style='info', description='Progress:', layout=Layout(height='25px', width='50%'),…"
      ]
     },
     "metadata": {},
     "output_type": "display_data"
    }
   ],
   "source": [
    "# Finally saving (committing) joined US dataset\n",
    "us=us.join(us_race_cnt, [\"City\",\"State Code\"])"
   ]
  },
  {
   "cell_type": "code",
   "execution_count": 14,
   "id": "fa5a71cb",
   "metadata": {},
   "outputs": [
    {
     "data": {
      "application/vnd.jupyter.widget-view+json": {
       "model_id": "ff0fe8dc5a94496eb6d139cf3905425f",
       "version_major": 2,
       "version_minor": 0
      },
      "text/plain": [
       "VBox()"
      ]
     },
     "metadata": {},
     "output_type": "display_data"
    },
    {
     "data": {
      "application/vnd.jupyter.widget-view+json": {
       "model_id": "",
       "version_major": 2,
       "version_minor": 0
      },
      "text/plain": [
       "FloatProgress(value=0.0, bar_style='info', description='Progress:', layout=Layout(height='25px', width='50%'),…"
      ]
     },
     "metadata": {},
     "output_type": "display_data"
    }
   ],
   "source": [
    "# Change `state code` column name to `state_code` and other similar problems to avoid parquet issues\n",
    "us=us.select(col('City').alias('city'), col('State Code').alias('state_code'), col('Median Age').alias('median_age'),\n",
    "                     col('Male Population').alias('male_population'), col('Female Population').alias('female_population'), \n",
    "                     col('Total Population').alias('total_population'), col('Foreign-born').alias('foreign_born'), \n",
    "                     col('Average Household Size').alias('avg_household_size'),\n",
    "                     col('American Indian and Alaska Native').alias('native_population'), \n",
    "                     col('Asian').alias('asian_population'), \n",
    "                     col('Black or African-American').alias('black_population'), \n",
    "                     col('Hispanic or Latino').alias('latino_population'), \n",
    "                     col('White').alias('white_population'))\n"
   ]
  },
  {
   "cell_type": "code",
   "execution_count": 15,
   "id": "5b7d8520",
   "metadata": {},
   "outputs": [
    {
     "data": {
      "application/vnd.jupyter.widget-view+json": {
       "model_id": "140c0f25081741f7b84fb2b6578619c6",
       "version_major": 2,
       "version_minor": 0
      },
      "text/plain": [
       "VBox()"
      ]
     },
     "metadata": {},
     "output_type": "display_data"
    },
    {
     "data": {
      "application/vnd.jupyter.widget-view+json": {
       "model_id": "",
       "version_major": 2,
       "version_minor": 0
      },
      "text/plain": [
       "FloatProgress(value=0.0, bar_style='info', description='Progress:', layout=Layout(height='25px', width='50%'),…"
      ]
     },
     "metadata": {},
     "output_type": "display_data"
    }
   ],
   "source": [
    "# Drop the `state` column since state comes from Dim State\n",
    "us=us.drop(\"State\")"
   ]
  },
  {
   "cell_type": "code",
   "execution_count": 16,
   "id": "efc4fb2c",
   "metadata": {},
   "outputs": [
    {
     "data": {
      "application/vnd.jupyter.widget-view+json": {
       "model_id": "22b6b01a8eed4c65a7eb22dafe4b5d55",
       "version_major": 2,
       "version_minor": 0
      },
      "text/plain": [
       "VBox()"
      ]
     },
     "metadata": {},
     "output_type": "display_data"
    },
    {
     "data": {
      "application/vnd.jupyter.widget-view+json": {
       "model_id": "",
       "version_major": 2,
       "version_minor": 0
      },
      "text/plain": [
       "FloatProgress(value=0.0, bar_style='info', description='Progress:', layout=Layout(height='25px', width='50%'),…"
      ]
     },
     "metadata": {},
     "output_type": "display_data"
    }
   ],
   "source": [
    "# Create list of valid cities\n",
    "cities = cities.select(col('Code').alias('city_code'), col('City').alias('city'), col('State').alias('state_code'))\n",
    "cities = cities.dropDuplicates()\n",
    "\n",
    "valid_cities = {}\n",
    "for index, row in cities.toPandas().iterrows():\n",
    "    valid_cities[row[0]] = row[1]\n",
    "\n",
    "@udf(StringType())\n",
    "def city_to_port(city):\n",
    "    for key in valid_cities:\n",
    "        if city.lower() in valid_cities[key].lower():\n",
    "            return key\n"
   ]
  },
  {
   "cell_type": "code",
   "execution_count": 17,
   "id": "01dcd56f",
   "metadata": {},
   "outputs": [
    {
     "data": {
      "application/vnd.jupyter.widget-view+json": {
       "model_id": "ac7310c6de0042348dc514796f0cc7c6",
       "version_major": 2,
       "version_minor": 0
      },
      "text/plain": [
       "VBox()"
      ]
     },
     "metadata": {},
     "output_type": "display_data"
    },
    {
     "data": {
      "application/vnd.jupyter.widget-view+json": {
       "model_id": "",
       "version_major": 2,
       "version_minor": 0
      },
      "text/plain": [
       "FloatProgress(value=0.0, bar_style='info', description='Progress:', layout=Layout(height='25px', width='50%'),…"
      ]
     },
     "metadata": {},
     "output_type": "display_data"
    },
    {
     "name": "stdout",
     "output_type": "stream",
     "text": [
      "+---------------+----------+----------+---------------+-----------------+----------------+------------+------------------+-----------------+----------------+----------------+-----------------+----------------+---------+\n",
      "|           city|state_code|median_age|male_population|female_population|total_population|foreign_born|avg_household_size|native_population|asian_population|black_population|latino_population|white_population|city_code|\n",
      "+---------------+----------+----------+---------------+-----------------+----------------+------------+------------------+-----------------+----------------+----------------+-----------------+----------------+---------+\n",
      "|           Kent|        WA|      33.4|          61825|            65137|          126962|       38175|              3.06|                1|               1|               1|                1|               1|      FTK|\n",
      "|   Fayetteville|        AR|      27.1|          41959|            40873|           82832|        6313|              2.28|                1|               1|               1|                1|               1|      FAY|\n",
      "|        Spokane|        WA|      36.6|         102756|           110511|          213267|       13253|              2.34|                1|               1|               1|                1|               1|      SPO|\n",
      "|     Bellingham|        WA|      30.7|          41286|            43857|           85143|        8713|              2.44|                1|               1|               1|                1|               1|      BLI|\n",
      "|         Layton|        UT|      29.5|          37748|            36394|           74142|        4268|              3.24|                1|               1|               1|                1|               1|      CLA|\n",
      "|    Springfield|        MO|      34.1|          81057|            85741|          166798|        7765|              2.12|                1|               1|               1|                1|               1|      SPI|\n",
      "|         Laredo|        TX|      28.8|         124305|           131484|          255789|       68427|              3.66|                1|               1|               1|                1|               1|      LAR|\n",
      "|          Tulsa|        OK|      35.0|         197437|           205654|          403091|       43751|              2.37|                1|               1|               1|                1|               1|      TUL|\n",
      "|       Syracuse|        NY|      30.3|          69462|            74690|          144152|       17733|              2.39|                1|               1|               1|                1|               1|      SYR|\n",
      "|West Palm Beach|        FL|      39.6|          49262|            57520|          106782|       30675|              2.53|                1|               1|               1|                1|               1|      WPB|\n",
      "|       Columbus|        GA|      33.7|          98785|           101794|          200579|       10376|              2.62|                1|               1|               1|                1|               1|      COL|\n",
      "|        Memphis|        TN|      34.1|         312237|           343523|          655760|       43318|              2.55|                1|               1|               1|                1|               1|      MEM|\n",
      "|       Portland|        OR|      36.7|         313516|           318671|          632187|       86041|              2.43|                1|               1|               1|                1|               1|      POO|\n",
      "|         Orange|        CA|      35.0|          67337|            73658|          140995|       34550|              3.14|                1|               1|               1|                1|               1|      SWF|\n",
      "| Salt Lake City|        UT|      32.1|          98364|            94296|          192660|       32166|              2.38|                1|               1|               1|                1|               1|      SLC|\n",
      "|      Milwaukee|        WI|      31.6|         286315|           313839|          600154|       58321|              2.51|                1|               1|               1|                1|               1|      MIL|\n",
      "|         Durham|        NC|      33.2|         121153|           136445|          257598|       38642|               2.4|                1|               1|               1|                1|               1|      RDU|\n",
      "|          Pasco|        WA|      28.6|          35298|            32799|           68097|       16265|              3.45|                1|               1|               1|                1|               1|      PSC|\n",
      "|           Mesa|        AZ|      36.9|         234998|           236835|          471833|       57492|              2.68|                1|               1|               1|                1|               1|      OTM|\n",
      "|          Fargo|        ND|      30.7|          60560|            58690|          119250|        9428|              2.18|                1|               1|               1|                1|               1|      FAR|\n",
      "+---------------+----------+----------+---------------+-----------------+----------------+------------+------------------+-----------------+----------------+----------------+-----------------+----------------+---------+\n",
      "only showing top 20 rows"
     ]
    }
   ],
   "source": [
    "# Convert City to Port and remove null values\n",
    "us = us.withColumn(\"city_code\", city_to_port(us[\"city\"])).dropna(subset=['city_code'])\n",
    "us.show()"
   ]
  },
  {
   "cell_type": "markdown",
   "id": "f48fea93",
   "metadata": {},
   "source": [
    "### Immigration Data\n",
    "\n",
    "For decades, U.S. immigration officers issued the I-94 Form (Arrival/Departure Record) to foreign visitors (e.g., business visitors, tourists and foreign students) who lawfully entered the United States. The I-94 was a small white paper form that a foreign visitor received from cabin crews on arrival flights and from U.S. Customs and Border Protection at the time of entry into the United States. It listed the traveler's immigration category, port of entry, data of entry into the United States, status expiration date and had a unique 11-digit identifying number assigned to it. Its purpose was to record the traveler's lawful admission to the United States.\n",
    "\n"
   ]
  },
  {
   "cell_type": "code",
   "execution_count": 18,
   "id": "090f7133",
   "metadata": {},
   "outputs": [
    {
     "data": {
      "application/vnd.jupyter.widget-view+json": {
       "model_id": "6266e35cd72a4135bb1e5e5b27e94ef4",
       "version_major": 2,
       "version_minor": 0
      },
      "text/plain": [
       "VBox()"
      ]
     },
     "metadata": {},
     "output_type": "display_data"
    },
    {
     "data": {
      "application/vnd.jupyter.widget-view+json": {
       "model_id": "",
       "version_major": 2,
       "version_minor": 0
      },
      "text/plain": [
       "FloatProgress(value=0.0, bar_style='info', description='Progress:', layout=Layout(height='25px', width='50%'),…"
      ]
     },
     "metadata": {},
     "output_type": "display_data"
    },
    {
     "name": "stdout",
     "output_type": "stream",
     "text": [
      "['AL' 'AK' 'AZ' 'AR' 'CA' 'CO' 'CT' 'DE' 'DC' 'FL' 'GA' 'GU' 'HI' 'ID'\n",
      " 'IL' 'IN' 'IA' 'KS' 'KY' 'LA' 'ME' 'MD' 'MA' 'MI' 'MN' 'MS' 'MO' 'MT'\n",
      " 'NC' 'ND' 'NE' 'NV' 'NH' 'NJ' 'NM' 'NY' 'OH' 'OK' 'OR' 'PA' 'PR' 'RI'\n",
      " 'SC' 'SD' 'TN' 'TX' 'UT' 'VT' 'VI' 'VA' 'WV' 'WA' 'WI' 'WY' '99']"
     ]
    }
   ],
   "source": [
    "# CLEANING INMIGRATION DATA SET SUMMARY NOTED BY STEPS:\n",
    "\n",
    "# Create a list of valid_states\n",
    "# Convert sas date to date\n",
    "# Convert i94mode to a description\n",
    "# US dataset will be cleaned of duplicate rows\n",
    "# Convert Visa mode to a description\n",
    "# Cast types for some columns\n",
    "# Drop unused columns we don't need \n",
    "\n",
    "# create new list with Valid States\n",
    "valid_states = i94_addr.select([\"Code\"]).toPandas()[\"Code\"].unique()\n",
    "print(valid_states)\n"
   ]
  },
  {
   "cell_type": "code",
   "execution_count": 19,
   "id": "14364831",
   "metadata": {},
   "outputs": [
    {
     "data": {
      "application/vnd.jupyter.widget-view+json": {
       "model_id": "e27a3bf14d27485090eecb610befad07",
       "version_major": 2,
       "version_minor": 0
      },
      "text/plain": [
       "VBox()"
      ]
     },
     "metadata": {},
     "output_type": "display_data"
    },
    {
     "data": {
      "application/vnd.jupyter.widget-view+json": {
       "model_id": "",
       "version_major": 2,
       "version_minor": 0
      },
      "text/plain": [
       "FloatProgress(value=0.0, bar_style='info', description='Progress:', layout=Layout(height='25px', width='50%'),…"
      ]
     },
     "metadata": {},
     "output_type": "display_data"
    }
   ],
   "source": [
    "def convert_sas_date(days):\n",
    "    \"\"\"\n",
    "    Converts SAS date stored as days since 1/1/1960 to datetime\n",
    "    :param days: Days since 1/1/1960\n",
    "    :return: datetime\n",
    "    \"\"\"\n",
    "    if days is None:\n",
    "        return None\n",
    "    return datetime.date(1960, 1, 1) + datetime.timedelta(days=days)\n",
    "\n",
    "def convert_i94mode(mode):\n",
    "    \"\"\"\n",
    "    Converts i94 travel mode code to a description\n",
    "    :param mode: int i94 mode as integer\n",
    "    :return: i94 mode description\n",
    "    \"\"\"\n",
    "    if mode == 1:\n",
    "        return \"Air\"\n",
    "    elif mode == 2:\n",
    "        return \"Sea\"\n",
    "    elif mode == 3:\n",
    "        return \"Land\"\n",
    "    else:\n",
    "        return \"Not Reported\"\n",
    "\n",
    "def convert_visa(visa):\n",
    "    \"\"\"\n",
    "    Converts visa numeric code to description\n",
    "    :param visa: str\n",
    "    :return: Visa description: str\n",
    "    \"\"\"\n",
    "    if visa is None:\n",
    "        return \"Not Reported\"\n",
    "    elif visa == 1:\n",
    "        return \"Business\"\n",
    "    elif visa == 2:\n",
    "        return \"Pleasure\"\n",
    "    elif visa == 3:\n",
    "        return \"Student\"\n",
    "    else:\n",
    "        return \"Not Reported\"\n",
    "\n",
    "\n",
    "def validate_state(state):\n",
    "    \"\"\"\n",
    "    Validate state\n",
    "    :param state: str\n",
    "    :return: state description: str\n",
    "    \"\"\"\n",
    "    if state in valid_states:\n",
    "        return state\n",
    "    return 'other'\n",
    "\n",
    "\n",
    "convert_sas_date_udf = F.udf(convert_sas_date, DateType())\n",
    "convert_i94mode_udf = F.udf(convert_i94mode, StringType())\n",
    "convert_visa_udf = F.udf(convert_visa, StringType())\n",
    "validate_state_udf = F.udf(validate_state, StringType())\n",
    "\n",
    "inmigration = inmigration.withColumn('age', inmigration['i94bir'].cast(IntegerType())) \\\n",
    "    .withColumn('i94cit', inmigration['i94cit'].cast(IntegerType())) \\\n",
    "    .withColumn('i94res', inmigration['i94res'].cast(IntegerType())) \\\n",
    "    .withColumn('arrival_date', convert_sas_date_udf(inmigration['arrdate']).cast(DateType())) \\\n",
    "    .withColumn('state_code', validate_state_udf(inmigration['i94addr']).cast(StringType())) \\\n",
    "    .withColumn('city_code', inmigration['i94port'].cast(StringType())) \\\n",
    "    .withColumn('biryear', inmigration['biryear'].cast(IntegerType())) \\\n",
    "    .withColumn('visa_mode', convert_i94mode_udf(inmigration['i94mode'])) \\\n",
    "    .withColumn('admnum', (inmigration['admnum'].cast(LongType()))) \\\n",
    "    .withColumn('visa_category', convert_visa_udf(inmigration['i94visa']))\n",
    "\n"
   ]
  },
  {
   "cell_type": "code",
   "execution_count": 20,
   "id": "e00dae0f",
   "metadata": {},
   "outputs": [
    {
     "data": {
      "application/vnd.jupyter.widget-view+json": {
       "model_id": "d3f2f223021f4abbb333980cd8a3cb64",
       "version_major": 2,
       "version_minor": 0
      },
      "text/plain": [
       "VBox()"
      ]
     },
     "metadata": {},
     "output_type": "display_data"
    },
    {
     "data": {
      "application/vnd.jupyter.widget-view+json": {
       "model_id": "",
       "version_major": 2,
       "version_minor": 0
      },
      "text/plain": [
       "FloatProgress(value=0.0, bar_style='info', description='Progress:', layout=Layout(height='25px', width='50%'),…"
      ]
     },
     "metadata": {},
     "output_type": "display_data"
    }
   ],
   "source": [
    "# Drop columns we don't need and drop duplicate rows\n",
    "inmigrationcols=[\"i94yr\",\"i94mon\",\"i94port\",\"i94mode\",\"i94addr\",\"i94visa\",\"arrival_date\",\"count\"]\n",
    "inm_fact=inmigration.drop(*inmigrationcols).dropDuplicates()"
   ]
  },
  {
   "cell_type": "markdown",
   "id": "8070ebbc",
   "metadata": {},
   "source": [
    "### Temperature by City\n"
   ]
  },
  {
   "cell_type": "code",
   "execution_count": 21,
   "id": "bfd30e67",
   "metadata": {},
   "outputs": [
    {
     "data": {
      "application/vnd.jupyter.widget-view+json": {
       "model_id": "50662b2eaf1b47ba85921a49f3604ff1",
       "version_major": 2,
       "version_minor": 0
      },
      "text/plain": [
       "VBox()"
      ]
     },
     "metadata": {},
     "output_type": "display_data"
    },
    {
     "data": {
      "application/vnd.jupyter.widget-view+json": {
       "model_id": "",
       "version_major": 2,
       "version_minor": 0
      },
      "text/plain": [
       "FloatProgress(value=0.0, bar_style='info', description='Progress:', layout=Layout(height='25px', width='50%'),…"
      ]
     },
     "metadata": {},
     "output_type": "display_data"
    }
   ],
   "source": [
    "# CLEANING TEMPERATURES BY CITY DATA SET SUMMARY NOTED BY STEPS:\n",
    "\n",
    "# Rename Columns\n",
    "# Drop Duplicates\n",
    "# Filter by US\n",
    "# Rank based on City Partition\n",
    "\n",
    "temperature = temperature.filter(temperature.AverageTemperature.isNotNull())\n",
    "temperature = temperature.filter(temperature.Country == \"United States\") \\\n",
    "                 .withColumn(\"year\", year(temperature['dt'])) \\\n",
    "                 .withColumn(\"month\", month(temperature[\"dt\"])) \\\n",
    "                 .withColumn(\"temperature\", temperature[\"AverageTemperature\"].cast(\"float\")) \\\n",
    "                 .withColumn(\"city_code\", city_to_port(temperature[\"City\"])) \\\n",
    "                 .withColumn(\"rank\", F.dense_rank().over(Window.partitionBy(\"city_code\").orderBy(F.desc(\"dt\")))) \\\n",
    "                 .dropna(how='any', subset=[\"city_code\"])\n"
   ]
  },
  {
   "cell_type": "code",
   "execution_count": 22,
   "id": "680bc1b5",
   "metadata": {},
   "outputs": [
    {
     "data": {
      "application/vnd.jupyter.widget-view+json": {
       "model_id": "ca59824622e643bb82add64280224075",
       "version_major": 2,
       "version_minor": 0
      },
      "text/plain": [
       "VBox()"
      ]
     },
     "metadata": {},
     "output_type": "display_data"
    },
    {
     "data": {
      "application/vnd.jupyter.widget-view+json": {
       "model_id": "",
       "version_major": 2,
       "version_minor": 0
      },
      "text/plain": [
       "FloatProgress(value=0.0, bar_style='info', description='Progress:', layout=Layout(height='25px', width='50%'),…"
      ]
     },
     "metadata": {},
     "output_type": "display_data"
    },
    {
     "name": "stdout",
     "output_type": "stream",
     "text": [
      "+----------+-------------+--------+---------+----+-----+-----------+---------+----+\n",
      "|        dt|      Country|Latitude|Longitude|year|month|temperature|city_code|rank|\n",
      "+----------+-------------+--------+---------+----+-----+-----------+---------+----+\n",
      "|2013-09-01|United States|  34.56N|  107.03W|2013|    9|     19.207|      ABQ|   1|\n",
      "|2013-08-01|United States|  34.56N|  107.03W|2013|    8|      22.04|      ABQ|   2|\n",
      "|2013-07-01|United States|  34.56N|  107.03W|2013|    7|     22.951|      ABQ|   3|\n",
      "|2013-06-01|United States|  34.56N|  107.03W|2013|    6|     23.418|      ABQ|   4|\n",
      "|2013-05-01|United States|  34.56N|  107.03W|2013|    5|      16.29|      ABQ|   5|\n",
      "|2013-04-01|United States|  34.56N|  107.03W|2013|    4|     11.555|      ABQ|   6|\n",
      "|2013-03-01|United States|  34.56N|  107.03W|2013|    3|      7.976|      ABQ|   7|\n",
      "|2013-02-01|United States|  34.56N|  107.03W|2013|    2|      1.221|      ABQ|   8|\n",
      "|2013-01-01|United States|  34.56N|  107.03W|2013|    1|     -1.981|      ABQ|   9|\n",
      "|2012-12-01|United States|  34.56N|  107.03W|2012|   12|      0.503|      ABQ|  10|\n",
      "|2012-11-01|United States|  34.56N|  107.03W|2012|   11|      6.284|      ABQ|  11|\n",
      "|2012-10-01|United States|  34.56N|  107.03W|2012|   10|     12.781|      ABQ|  12|\n",
      "|2012-09-01|United States|  34.56N|  107.03W|2012|    9|     18.577|      ABQ|  13|\n",
      "|2012-08-01|United States|  34.56N|  107.03W|2012|    8|     23.127|      ABQ|  14|\n",
      "|2012-07-01|United States|  34.56N|  107.03W|2012|    7|     23.556|      ABQ|  15|\n",
      "|2012-06-01|United States|  34.56N|  107.03W|2012|    6|     23.359|      ABQ|  16|\n",
      "|2012-05-01|United States|  34.56N|  107.03W|2012|    5|     17.307|      ABQ|  17|\n",
      "|2012-04-01|United States|  34.56N|  107.03W|2012|    4|     13.133|      ABQ|  18|\n",
      "|2012-03-01|United States|  34.56N|  107.03W|2012|    3|       7.88|      ABQ|  19|\n",
      "|2012-02-01|United States|  34.56N|  107.03W|2012|    2|      2.816|      ABQ|  20|\n",
      "+----------+-------------+--------+---------+----+-----+-----------+---------+----+\n",
      "only showing top 20 rows"
     ]
    }
   ],
   "source": [
    "temperature_dim = temperature.orderBy(\"city_code\").dropDuplicates().drop('AverageTemperatureUncertainty', 'AverageTemperature', 'City')\n",
    "temperature_dim.show()"
   ]
  },
  {
   "cell_type": "code",
   "execution_count": 23,
   "id": "f1acb6f2",
   "metadata": {},
   "outputs": [
    {
     "data": {
      "application/vnd.jupyter.widget-view+json": {
       "model_id": "3e408b506aec449091077ea5d13be8c2",
       "version_major": 2,
       "version_minor": 0
      },
      "text/plain": [
       "VBox()"
      ]
     },
     "metadata": {},
     "output_type": "display_data"
    },
    {
     "data": {
      "application/vnd.jupyter.widget-view+json": {
       "model_id": "",
       "version_major": 2,
       "version_minor": 0
      },
      "text/plain": [
       "FloatProgress(value=0.0, bar_style='info', description='Progress:', layout=Layout(height='25px', width='50%'),…"
      ]
     },
     "metadata": {},
     "output_type": "display_data"
    },
    {
     "name": "stdout",
     "output_type": "stream",
     "text": [
      "+----+-------------------------+\n",
      "|Code|I94CTRY                  |\n",
      "+----+-------------------------+\n",
      "|163 |UZBEKISTAN               |\n",
      "|414 |KIRIBATI                 |\n",
      "|586 |HAITI                    |\n",
      "|154 |GEORGIA                  |\n",
      "|420 |TUVALU                   |\n",
      "|117 |ITALY                    |\n",
      "|273 |MALAYSIA                 |\n",
      "|203 |LAOS                     |\n",
      "|399 |EQUATORIAL GUINEA        |\n",
      "|353 |TANZANIA                 |\n",
      "|575 |COSTA RICA               |\n",
      "|114 |HUNGARY                  |\n",
      "|603 |GUYANA                   |\n",
      "|760 |MAYOTTE (AFRICA - FRENCH)|\n",
      "|386 |BENIN                    |\n",
      "|209 |JAPAN                    |\n",
      "|712 |ANTARCTICA               |\n",
      "|300 |No Country Code (300)    |\n",
      "|519 |DOMINICA                 |\n",
      "|276 |SOUTH KOREA              |\n",
      "+----+-------------------------+\n",
      "only showing top 20 rows"
     ]
    }
   ],
   "source": [
    "# CLEANING COUNTRY DATA SET SUMMARY NOTED BY STEPS:\n",
    "\n",
    "# Clean Countries with INVALID VALUES to VALID values\n",
    "# Drop Duplicates\n",
    "\n",
    "countries_dim = countries.withColumn(\"I94CTRY\", when(col(\"I94CTRY\") == \"INVALID: AMERICAN SAMOA\", \"AMERICAN SAMOA\").otherwise(col(\"I94CTRY\"))) \\\n",
    "                 .withColumn(\"I94CTRY\", when(col(\"I94CTRY\") == \"INVALID: ANTARCTICA\", \"ANTARCTICA\").otherwise(col(\"I94CTRY\"))) \\\n",
    "                 .withColumn(\"I94CTRY\", when(col(\"I94CTRY\") == \"INVALID: CANADA\", \"CANADA\").otherwise(col(\"I94CTRY\"))) \\\n",
    "                 .withColumn(\"I94CTRY\", when(col(\"I94CTRY\") == \"INVALID: FRENCH SOUTHERN AND ANTARCTIC\", \"FRENCH SOUTHERN AND ANTARCTIC\").otherwise(col(\"I94CTRY\"))) \\\n",
    "                 .withColumn(\"I94CTRY\", when(col(\"I94CTRY\") == \"INVALID: GUAM\", \"GUAM\").otherwise(col(\"I94CTRY\"))) \\\n",
    "                 .withColumn(\"I94CTRY\", when(col(\"I94CTRY\") == \"INVALID: GREENLAND\", \"GREENLAND\").otherwise(col(\"I94CTRY\"))) \\\n",
    "                 .withColumn(\"I94CTRY\", when(col(\"I94CTRY\") == \"INVALID: UNITED STATES\", \"UNITED STATES\").otherwise(col(\"I94CTRY\"))) \\\n",
    "                 .withColumn(\"I94CTRY\", when(col(\"I94CTRY\") == \"INVALID: U.S. VIRGIN ISLANDS\", \"VIRGIN ISLANDS\").otherwise(col(\"I94CTRY\"))) \\\n",
    "\n",
    "countries_dim = countries_dim.dropDuplicates()\n",
    "countries_dim.show(truncate=False)"
   ]
  },
  {
   "cell_type": "markdown",
   "id": "fcf4b303",
   "metadata": {},
   "source": [
    "### Step 3: Define the Data Model\n",
    "\n",
    "### 3.1 Conceptual Data Model\n",
    "Using fact and dimensional tables saved as parquet files we can implement them on any columnar database in Star Schema model. Star Schema model was chosen because it will be easier for Data Analysts and Data Scientists to understand and apply queries with best performance outcomes and flexibility.\n",
    "Since the common data field from most of the datasets is city we will choose it for aggregations and also will be used to extrapolate the other data fields required for the data pipeline."
   ]
  },
  {
   "attachments": {},
   "cell_type": "markdown",
   "id": "a575250a",
   "metadata": {},
   "source": [
    "![star_schema.png](star_schema.png)\n",
    "\n"
   ]
  },
  {
   "cell_type": "markdown",
   "id": "782affac",
   "metadata": {},
   "source": [
    "### 3.2 Mapping Out Data Pipelines\n",
    "\n",
    "The pipeline steps are as follows:\n",
    "\n",
    "Start Spark session\n",
    "\n",
    "Import pyspark libraries\n",
    "\n",
    "Load the datasets\n",
    "\n",
    "Install pandas (pandas==0.25.1)\n",
    "\n",
    "Clean demographic dataset (create gender columns, drop duplicates, match cities present in valid cities only)\n",
    "\n",
    "Clean inmigration dataset (list of valid_states, convert i94mode and visa mode to a description, drop duplicates, Cast \n",
    "column types, drop unused columns)\n",
    "\n",
    "Clean temperature by city dataframe (Rename Columns, Drop Duplicates, Filter by US, Rank based on city_code Partition, \n",
    "Convert City name to Port code)\n",
    "\n",
    "Create Inmigration Fact table and save to parquet file\n",
    "\n",
    "Create Date Dimension table and save to parquet file\n",
    "\n",
    "Create Demographics Dimension table and save to parquet file\n",
    "\n",
    "Create Countries Dimension table and save to parquet file\n",
    "\n",
    "Create States Dimension table and save to parquet file\n",
    "\n",
    "Create Temperatures Dimension table and save to parquet file"
   ]
  },
  {
   "cell_type": "markdown",
   "id": "c68b33ee",
   "metadata": {},
   "source": [
    "### Step 4: Run Pipelines to Model the Data \n",
    "\n",
    "### 4.1 Create the data model"
   ]
  },
  {
   "cell_type": "code",
   "execution_count": 24,
   "id": "577db468",
   "metadata": {},
   "outputs": [
    {
     "data": {
      "application/vnd.jupyter.widget-view+json": {
       "model_id": "64a397f4be5445848e5437483066bcfd",
       "version_major": 2,
       "version_minor": 0
      },
      "text/plain": [
       "VBox()"
      ]
     },
     "metadata": {},
     "output_type": "display_data"
    },
    {
     "data": {
      "application/vnd.jupyter.widget-view+json": {
       "model_id": "",
       "version_major": 2,
       "version_minor": 0
      },
      "text/plain": [
       "FloatProgress(value=0.0, bar_style='info', description='Progress:', layout=Layout(height='25px', width='50%'),…"
      ]
     },
     "metadata": {},
     "output_type": "display_data"
    }
   ],
   "source": [
    "# define output path\n",
    "output_data = \"s3a://gsc-udc-poc/capstone/\""
   ]
  },
  {
   "cell_type": "code",
   "execution_count": 25,
   "id": "4b906014",
   "metadata": {},
   "outputs": [
    {
     "data": {
      "application/vnd.jupyter.widget-view+json": {
       "model_id": "4e9ab230bcb640e785678bb624d3c8e6",
       "version_major": 2,
       "version_minor": 0
      },
      "text/plain": [
       "VBox()"
      ]
     },
     "metadata": {},
     "output_type": "display_data"
    },
    {
     "data": {
      "application/vnd.jupyter.widget-view+json": {
       "model_id": "",
       "version_major": 2,
       "version_minor": 0
      },
      "text/plain": [
       "FloatProgress(value=0.0, bar_style='info', description='Progress:', layout=Layout(height='25px', width='50%'),…"
      ]
     },
     "metadata": {},
     "output_type": "display_data"
    }
   ],
   "source": [
    "# create Date dimension\n",
    "date_dim=inmigration.select(col('arrdate'),\n",
    "                            col('arrival_date').alias('arrival_iso_date'),\n",
    "                            date_format('arrival_date', 'y').alias('arrival_year'),\n",
    "                            date_format('arrival_date', 'M').alias('arrival_month'),\n",
    "                            date_format('arrival_date', 'd').alias('arrival_day'),\n",
    "                            date_format('arrival_date', 'E').alias('arrival_dayofweek'))\n"
   ]
  },
  {
   "cell_type": "code",
   "execution_count": 26,
   "id": "ba4cf6cf",
   "metadata": {},
   "outputs": [
    {
     "data": {
      "application/vnd.jupyter.widget-view+json": {
       "model_id": "478ad1869fb54f22a206430522dfaa72",
       "version_major": 2,
       "version_minor": 0
      },
      "text/plain": [
       "VBox()"
      ]
     },
     "metadata": {},
     "output_type": "display_data"
    },
    {
     "data": {
      "application/vnd.jupyter.widget-view+json": {
       "model_id": "",
       "version_major": 2,
       "version_minor": 0
      },
      "text/plain": [
       "FloatProgress(value=0.0, bar_style='info', description='Progress:', layout=Layout(height='25px', width='50%'),…"
      ]
     },
     "metadata": {},
     "output_type": "display_data"
    }
   ],
   "source": [
    "# write date table to parquet files\n",
    "date_dim.write.mode('overwrite').parquet(output_data+\"/date_table\")"
   ]
  },
  {
   "cell_type": "code",
   "execution_count": 27,
   "id": "526edc1e",
   "metadata": {},
   "outputs": [
    {
     "data": {
      "application/vnd.jupyter.widget-view+json": {
       "model_id": "6f894a63245a4220b75d5dfef472db3a",
       "version_major": 2,
       "version_minor": 0
      },
      "text/plain": [
       "VBox()"
      ]
     },
     "metadata": {},
     "output_type": "display_data"
    },
    {
     "data": {
      "application/vnd.jupyter.widget-view+json": {
       "model_id": "",
       "version_major": 2,
       "version_minor": 0
      },
      "text/plain": [
       "FloatProgress(value=0.0, bar_style='info', description='Progress:', layout=Layout(height='25px', width='50%'),…"
      ]
     },
     "metadata": {},
     "output_type": "display_data"
    }
   ],
   "source": [
    "# write inmigration table to parquet files\n",
    "inm_fact.write.mode('overwrite').parquet(output_data+\"/inmigration_table\")"
   ]
  },
  {
   "cell_type": "code",
   "execution_count": 29,
   "id": "43a4bc15",
   "metadata": {},
   "outputs": [
    {
     "data": {
      "application/vnd.jupyter.widget-view+json": {
       "model_id": "e8864520759a4ee69c3e1ce2e71d6814",
       "version_major": 2,
       "version_minor": 0
      },
      "text/plain": [
       "VBox()"
      ]
     },
     "metadata": {},
     "output_type": "display_data"
    },
    {
     "data": {
      "application/vnd.jupyter.widget-view+json": {
       "model_id": "",
       "version_major": 2,
       "version_minor": 0
      },
      "text/plain": [
       "FloatProgress(value=0.0, bar_style='info', description='Progress:', layout=Layout(height='25px', width='50%'),…"
      ]
     },
     "metadata": {},
     "output_type": "display_data"
    }
   ],
   "source": [
    "# write demographic table to parquet files\n",
    "us.write.mode('overwrite').parquet(output_data+\"/demographic_table\")"
   ]
  },
  {
   "cell_type": "code",
   "execution_count": 30,
   "id": "c90f99c9",
   "metadata": {},
   "outputs": [
    {
     "data": {
      "application/vnd.jupyter.widget-view+json": {
       "model_id": "2f9575ff144448bc844cd0016dd377b2",
       "version_major": 2,
       "version_minor": 0
      },
      "text/plain": [
       "VBox()"
      ]
     },
     "metadata": {},
     "output_type": "display_data"
    },
    {
     "data": {
      "application/vnd.jupyter.widget-view+json": {
       "model_id": "",
       "version_major": 2,
       "version_minor": 0
      },
      "text/plain": [
       "FloatProgress(value=0.0, bar_style='info', description='Progress:', layout=Layout(height='25px', width='50%'),…"
      ]
     },
     "metadata": {},
     "output_type": "display_data"
    }
   ],
   "source": [
    "# write temperature by city table to parquet files\n",
    "temperature_dim.write.mode('overwrite').parquet(output_data+\"/temperature_table\")"
   ]
  },
  {
   "cell_type": "code",
   "execution_count": 31,
   "id": "5cbc90f9",
   "metadata": {},
   "outputs": [
    {
     "data": {
      "application/vnd.jupyter.widget-view+json": {
       "model_id": "d0e1278a259b4b2c97cfe75c13a559e4",
       "version_major": 2,
       "version_minor": 0
      },
      "text/plain": [
       "VBox()"
      ]
     },
     "metadata": {},
     "output_type": "display_data"
    },
    {
     "data": {
      "application/vnd.jupyter.widget-view+json": {
       "model_id": "",
       "version_major": 2,
       "version_minor": 0
      },
      "text/plain": [
       "FloatProgress(value=0.0, bar_style='info', description='Progress:', layout=Layout(height='25px', width='50%'),…"
      ]
     },
     "metadata": {},
     "output_type": "display_data"
    }
   ],
   "source": [
    "# write country table to parquet files\n",
    "countries_dim.write.mode('overwrite').parquet(output_data+\"/country_table\")"
   ]
  },
  {
   "cell_type": "code",
   "execution_count": 32,
   "id": "7a87cac6",
   "metadata": {},
   "outputs": [
    {
     "data": {
      "application/vnd.jupyter.widget-view+json": {
       "model_id": "e79fccf2b12445f7885871a56f8a17e8",
       "version_major": 2,
       "version_minor": 0
      },
      "text/plain": [
       "VBox()"
      ]
     },
     "metadata": {},
     "output_type": "display_data"
    },
    {
     "data": {
      "application/vnd.jupyter.widget-view+json": {
       "model_id": "",
       "version_major": 2,
       "version_minor": 0
      },
      "text/plain": [
       "FloatProgress(value=0.0, bar_style='info', description='Progress:', layout=Layout(height='25px', width='50%'),…"
      ]
     },
     "metadata": {},
     "output_type": "display_data"
    }
   ],
   "source": [
    "# write state table to parquet files\n",
    "state_dim = i94_addr.select(col('Code').alias('state_code'), col('State').alias('state_name'))\n",
    "state_dim.write.mode('overwrite').parquet(output_data+\"/state_table\")"
   ]
  },
  {
   "cell_type": "markdown",
   "id": "f1772c23",
   "metadata": {},
   "source": [
    "### 4.2 Data Quality Checks"
   ]
  },
  {
   "cell_type": "code",
   "execution_count": 33,
   "id": "2233aa3d",
   "metadata": {},
   "outputs": [
    {
     "data": {
      "application/vnd.jupyter.widget-view+json": {
       "model_id": "d0a658a5da384fe88c5797b540fe68fc",
       "version_major": 2,
       "version_minor": 0
      },
      "text/plain": [
       "VBox()"
      ]
     },
     "metadata": {},
     "output_type": "display_data"
    },
    {
     "data": {
      "application/vnd.jupyter.widget-view+json": {
       "model_id": "",
       "version_major": 2,
       "version_minor": 0
      },
      "text/plain": [
       "FloatProgress(value=0.0, bar_style='info', description='Progress:', layout=Layout(height='25px', width='50%'),…"
      ]
     },
     "metadata": {},
     "output_type": "display_data"
    },
    {
     "name": "stdout",
     "output_type": "stream",
     "text": [
      "Collecting boto3\n",
      "  Downloading https://files.pythonhosted.org/packages/e0/a2/298aae95ef547b6003a32512d782ced9d3c78653b2219ee06afbad9c781e/boto3-1.19.10-py3-none-any.whl (131kB)\n",
      "Collecting botocore<1.23.0,>=1.22.10 (from boto3)\n",
      "  Downloading https://files.pythonhosted.org/packages/85/13/6346f79bc59c529f3b3de7d937763c04205b7c772313e0f6f183c08d29a4/botocore-1.22.10-py3-none-any.whl (8.1MB)\n",
      "Collecting s3transfer<0.6.0,>=0.5.0 (from boto3)\n",
      "  Using cached https://files.pythonhosted.org/packages/ab/84/fc3717a7b7f0f6bb08af593127171f08e3e0087c197922da09c01bfe7c3a/s3transfer-0.5.0-py3-none-any.whl\n",
      "Requirement already satisfied: jmespath<1.0.0,>=0.7.1 in /usr/local/lib/python3.7/site-packages (from boto3)\n",
      "Collecting urllib3<1.27,>=1.25.4 (from botocore<1.23.0,>=1.22.10->boto3)\n",
      "  Using cached https://files.pythonhosted.org/packages/af/f4/524415c0744552cce7d8bf3669af78e8a069514405ea4fcbd0cc44733744/urllib3-1.26.7-py2.py3-none-any.whl\n",
      "Requirement already satisfied: python-dateutil<3.0.0,>=2.1 in /mnt/tmp/1636028975176-0/lib/python3.7/site-packages (from botocore<1.23.0,>=1.22.10->boto3)\n",
      "Requirement already satisfied: six>=1.5 in /usr/local/lib/python3.7/site-packages (from python-dateutil<3.0.0,>=2.1->botocore<1.23.0,>=1.22.10->boto3)\n",
      "Installing collected packages: urllib3, botocore, s3transfer, boto3\n",
      "Successfully installed boto3-1.19.10 botocore-1.22.10 s3transfer-0.5.0 urllib3-1.26.7"
     ]
    }
   ],
   "source": [
    "# Boto will be used to connect to S3 to read parquet tables\n",
    "sc.install_pypi_package(\"boto3\")\n",
    "import boto3"
   ]
  },
  {
   "cell_type": "code",
   "execution_count": 38,
   "id": "2b2e1594",
   "metadata": {},
   "outputs": [
    {
     "data": {
      "application/vnd.jupyter.widget-view+json": {
       "model_id": "13f16422dfe84152a625ccdc3bb48362",
       "version_major": 2,
       "version_minor": 0
      },
      "text/plain": [
       "VBox()"
      ]
     },
     "metadata": {},
     "output_type": "display_data"
    },
    {
     "data": {
      "application/vnd.jupyter.widget-view+json": {
       "model_id": "",
       "version_major": 2,
       "version_minor": 0
      },
      "text/plain": [
       "FloatProgress(value=0.0, bar_style='info', description='Progress:', layout=Layout(height='25px', width='50%'),…"
      ]
     },
     "metadata": {},
     "output_type": "display_data"
    }
   ],
   "source": [
    "s3_client = boto3.client('s3')\n",
    "objects = s3_client.list_objects_v2(Bucket='gsc-udc-poc', Delimiter='/', Prefix ='capstone/')"
   ]
  },
  {
   "cell_type": "markdown",
   "id": "744e8b0c",
   "metadata": {},
   "source": [
    "#### Validate Schema (Fact & Dimension Tables)"
   ]
  },
  {
   "cell_type": "code",
   "execution_count": 39,
   "id": "1fe4879e",
   "metadata": {},
   "outputs": [
    {
     "data": {
      "application/vnd.jupyter.widget-view+json": {
       "model_id": "9244fc9a90604b558fb656f0b6414245",
       "version_major": 2,
       "version_minor": 0
      },
      "text/plain": [
       "VBox()"
      ]
     },
     "metadata": {},
     "output_type": "display_data"
    },
    {
     "data": {
      "application/vnd.jupyter.widget-view+json": {
       "model_id": "",
       "version_major": 2,
       "version_minor": 0
      },
      "text/plain": [
       "FloatProgress(value=0.0, bar_style='info', description='Progress:', layout=Layout(height='25px', width='50%'),…"
      ]
     },
     "metadata": {},
     "output_type": "display_data"
    },
    {
     "name": "stdout",
     "output_type": "stream",
     "text": [
      "Table: country_table\n",
      "root\n",
      " |-- Code: string (nullable = true)\n",
      " |-- I94CTRY: string (nullable = true)\n",
      "\n",
      "Table: date_table\n",
      "root\n",
      " |-- arrdate: double (nullable = true)\n",
      " |-- arrival_iso_date: date (nullable = true)\n",
      " |-- arrival_year: string (nullable = true)\n",
      " |-- arrival_month: string (nullable = true)\n",
      " |-- arrival_day: string (nullable = true)\n",
      " |-- arrival_dayofweek: string (nullable = true)\n",
      "\n",
      "Table: demographic_table\n",
      "root\n",
      " |-- city: string (nullable = true)\n",
      " |-- state_code: string (nullable = true)\n",
      " |-- median_age: string (nullable = true)\n",
      " |-- male_population: string (nullable = true)\n",
      " |-- female_population: string (nullable = true)\n",
      " |-- total_population: string (nullable = true)\n",
      " |-- foreign_born: string (nullable = true)\n",
      " |-- avg_household_size: string (nullable = true)\n",
      " |-- native_population: long (nullable = true)\n",
      " |-- asian_population: long (nullable = true)\n",
      " |-- black_population: long (nullable = true)\n",
      " |-- latino_population: long (nullable = true)\n",
      " |-- white_population: long (nullable = true)\n",
      " |-- city_code: string (nullable = true)\n",
      "\n",
      "Table: inmigration_table\n",
      "root\n",
      " |-- cicid: double (nullable = true)\n",
      " |-- i94cit: integer (nullable = true)\n",
      " |-- i94res: integer (nullable = true)\n",
      " |-- arrdate: double (nullable = true)\n",
      " |-- depdate: double (nullable = true)\n",
      " |-- i94bir: double (nullable = true)\n",
      " |-- dtadfile: string (nullable = true)\n",
      " |-- visapost: string (nullable = true)\n",
      " |-- occup: string (nullable = true)\n",
      " |-- entdepa: string (nullable = true)\n",
      " |-- entdepd: string (nullable = true)\n",
      " |-- entdepu: string (nullable = true)\n",
      " |-- matflag: string (nullable = true)\n",
      " |-- biryear: integer (nullable = true)\n",
      " |-- dtaddto: string (nullable = true)\n",
      " |-- gender: string (nullable = true)\n",
      " |-- insnum: string (nullable = true)\n",
      " |-- airline: string (nullable = true)\n",
      " |-- admnum: long (nullable = true)\n",
      " |-- fltno: string (nullable = true)\n",
      " |-- visatype: string (nullable = true)\n",
      " |-- age: integer (nullable = true)\n",
      " |-- state_code: string (nullable = true)\n",
      " |-- city_code: string (nullable = true)\n",
      " |-- visa_mode: string (nullable = true)\n",
      " |-- visa_category: string (nullable = true)\n",
      "\n",
      "Table: state_table\n",
      "root\n",
      " |-- state_code: string (nullable = true)\n",
      " |-- state_name: string (nullable = true)\n",
      "\n",
      "Table: temperature_table\n",
      "root\n",
      " |-- dt: string (nullable = true)\n",
      " |-- Country: string (nullable = true)\n",
      " |-- Latitude: string (nullable = true)\n",
      " |-- Longitude: string (nullable = true)\n",
      " |-- year: integer (nullable = true)\n",
      " |-- month: integer (nullable = true)\n",
      " |-- temperature: float (nullable = true)\n",
      " |-- city_code: string (nullable = true)\n",
      " |-- rank: integer (nullable = true)"
     ]
    }
   ],
   "source": [
    "for prefix in objects['CommonPrefixes']:\n",
    "    table = prefix['Prefix'].split('/')[1]\n",
    "    df = spark.read.parquet(\"s3://gsc-udc-poc/capstone/\" + table)\n",
    "    print(\"Table: \" + table)\n",
    "    schema = df.printSchema()"
   ]
  },
  {
   "cell_type": "markdown",
   "id": "459fe3ab",
   "metadata": {},
   "source": [
    "#### Validate Non Empty Tables (Fact & Dimension)"
   ]
  },
  {
   "cell_type": "code",
   "execution_count": 40,
   "id": "ec818bee",
   "metadata": {},
   "outputs": [
    {
     "data": {
      "application/vnd.jupyter.widget-view+json": {
       "model_id": "64959732b16c4404a58c23b64e00d626",
       "version_major": 2,
       "version_minor": 0
      },
      "text/plain": [
       "VBox()"
      ]
     },
     "metadata": {},
     "output_type": "display_data"
    },
    {
     "data": {
      "application/vnd.jupyter.widget-view+json": {
       "model_id": "",
       "version_major": 2,
       "version_minor": 0
      },
      "text/plain": [
       "FloatProgress(value=0.0, bar_style='info', description='Progress:', layout=Layout(height='25px', width='50%'),…"
      ]
     },
     "metadata": {},
     "output_type": "display_data"
    },
    {
     "name": "stdout",
     "output_type": "stream",
     "text": [
      "Table: country_table is not empty: total 289 records.\n",
      "Table: date_table is not empty: total 3096313 records.\n",
      "Table: demographic_table is not empty: total 180 records.\n",
      "Table: inmigration_table is not empty: total 3096313 records.\n",
      "Table: state_table is not empty: total 55 records.\n",
      "Table: temperature_table is not empty: total 313024 records."
     ]
    }
   ],
   "source": [
    "for prefix in objects['CommonPrefixes']:\n",
    "    table = prefix['Prefix'].split('/')[1]\n",
    "    df = spark.read.parquet(\"s3://gsc-udc-poc/capstone/\" + table)\n",
    "    record_num = df.count()\n",
    "    if record_num <= 0:\n",
    "        raise ValueError(\"This table is empty!\")\n",
    "    else:\n",
    "        print(\"Table: \" + table + f\" is not empty: total {record_num} records.\")"
   ]
  },
  {
   "cell_type": "markdown",
   "id": "a3243a87",
   "metadata": {},
   "source": [
    "### 4.3 Data dictionary \n",
    "\n",
    "Please refer to data_dictionary.md"
   ]
  },
  {
   "cell_type": "markdown",
   "id": "1c8ec65b",
   "metadata": {},
   "source": [
    "### Step 5: Complete Project Write Up\n",
    "\n",
    "Rationale for the choice of tools and technologies for the project\n",
    "\n",
    "Apache spark was used because of:\n",
    " * it's ability to handle multiple file formats with large amounts of data.\n",
    " * Apache Spark offers a lightning-fast unified analytics engine for big data.\n",
    " * Spark has easy-to-use APIs for operating on large datasets.\n",
    "\n",
    "Propose how often the data should be updated and why.\n",
    " * The current I94 immigration data is updated monthly, therefore the data will be updated monthly.\n",
    "\n",
    "Write a description of how you would approach the problem differently under the following scenarios:\n",
    "\n",
    "The data was increased by 100x.\n",
    " * Spark can handle the increase but we would consider increasing the number of nodes in our cluster.\n",
    " \n",
    "The data populates a dashboard that must be updated on a daily basis by 7am every day.\n",
    " * In this scenario, Apache Airflow will be used to schedule and run data pipelines.\n",
    " \n",
    "The database needed to be accessed by 100+ people.\n",
    " * In this scenario, we would move our analytics database into Amazon Redshift."
   ]
  }
 ],
 "metadata": {
  "kernelspec": {
   "display_name": "PySpark",
   "language": "",
   "name": "pysparkkernel"
  },
  "language_info": {
   "codemirror_mode": {
    "name": "python",
    "version": 3
   },
   "mimetype": "text/x-python",
   "name": "pyspark",
   "pygments_lexer": "python3"
  }
 },
 "nbformat": 4,
 "nbformat_minor": 5
}
